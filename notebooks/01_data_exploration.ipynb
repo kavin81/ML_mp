{
  "cells": [
    {
      "cell_type": "markdown",
      "id": "58c370d9",
      "metadata": {
        "id": "58c370d9"
      },
      "source": [
        "importing libraries"
      ]
    },
    {
      "cell_type": "code",
      "execution_count": 1,
      "id": "db04243c",
      "metadata": {
        "id": "db04243c"
      },
      "outputs": [],
      "source": [
        "import pandas as pd\n",
        "import numpy as np\n",
        "import seaborn as sns\n",
        "import matplotlib.pyplot as plt\n",
        "import re\n",
        "from collections import Counter\n",
        "\n",
        "# NLP Libraries\n",
        "import nltk\n",
        "from nltk.corpus import stopwords\n",
        "from nltk.stem import WordNetLemmatizer\n",
        "\n",
        "# Scikit-learn Libraries\n",
        "from sklearn.feature_extraction.text import TfidfVectorizer\n",
        "from sklearn.model_selection import train_test_split, GridSearchCV\n",
        "from sklearn.preprocessing import LabelEncoder\n",
        "from sklearn.linear_model import LogisticRegression\n",
        "from sklearn.ensemble import RandomForestClassifier\n",
        "from sklearn.metrics import classification_report, confusion_matrix, accuracy_score, f1_score\n",
        "\n",
        "# Imbalanced-learn\n",
        "from imblearn.over_sampling import SMOTE\n",
        "\n",
        "# XGBoost\n",
        "import xgboost as xgb\n",
        "\n",
        "# Set pandas display option\n",
        "pd.set_option('display.max_colwidth', None)\n",
        "\n"
      ]
    },
    {
      "cell_type": "code",
      "source": [
        "from google.colab import files\n",
        "uploaded = files.upload()"
      ],
      "metadata": {
        "colab": {
          "base_uri": "https://localhost:8080/",
          "height": 73
        },
        "id": "XxzyK6SYqLHa",
        "outputId": "df1a3032-1ce1-4655-c905-19818993c11b"
      },
      "id": "XxzyK6SYqLHa",
      "execution_count": 2,
      "outputs": [
        {
          "output_type": "display_data",
          "data": {
            "text/plain": [
              "<IPython.core.display.HTML object>"
            ],
            "text/html": [
              "\n",
              "     <input type=\"file\" id=\"files-7291ee57-8855-480c-8ba2-c00cefc84fba\" name=\"files[]\" multiple disabled\n",
              "        style=\"border:none\" />\n",
              "     <output id=\"result-7291ee57-8855-480c-8ba2-c00cefc84fba\">\n",
              "      Upload widget is only available when the cell has been executed in the\n",
              "      current browser session. Please rerun this cell to enable.\n",
              "      </output>\n",
              "      <script>// Copyright 2017 Google LLC\n",
              "//\n",
              "// Licensed under the Apache License, Version 2.0 (the \"License\");\n",
              "// you may not use this file except in compliance with the License.\n",
              "// You may obtain a copy of the License at\n",
              "//\n",
              "//      http://www.apache.org/licenses/LICENSE-2.0\n",
              "//\n",
              "// Unless required by applicable law or agreed to in writing, software\n",
              "// distributed under the License is distributed on an \"AS IS\" BASIS,\n",
              "// WITHOUT WARRANTIES OR CONDITIONS OF ANY KIND, either express or implied.\n",
              "// See the License for the specific language governing permissions and\n",
              "// limitations under the License.\n",
              "\n",
              "/**\n",
              " * @fileoverview Helpers for google.colab Python module.\n",
              " */\n",
              "(function(scope) {\n",
              "function span(text, styleAttributes = {}) {\n",
              "  const element = document.createElement('span');\n",
              "  element.textContent = text;\n",
              "  for (const key of Object.keys(styleAttributes)) {\n",
              "    element.style[key] = styleAttributes[key];\n",
              "  }\n",
              "  return element;\n",
              "}\n",
              "\n",
              "// Max number of bytes which will be uploaded at a time.\n",
              "const MAX_PAYLOAD_SIZE = 100 * 1024;\n",
              "\n",
              "function _uploadFiles(inputId, outputId) {\n",
              "  const steps = uploadFilesStep(inputId, outputId);\n",
              "  const outputElement = document.getElementById(outputId);\n",
              "  // Cache steps on the outputElement to make it available for the next call\n",
              "  // to uploadFilesContinue from Python.\n",
              "  outputElement.steps = steps;\n",
              "\n",
              "  return _uploadFilesContinue(outputId);\n",
              "}\n",
              "\n",
              "// This is roughly an async generator (not supported in the browser yet),\n",
              "// where there are multiple asynchronous steps and the Python side is going\n",
              "// to poll for completion of each step.\n",
              "// This uses a Promise to block the python side on completion of each step,\n",
              "// then passes the result of the previous step as the input to the next step.\n",
              "function _uploadFilesContinue(outputId) {\n",
              "  const outputElement = document.getElementById(outputId);\n",
              "  const steps = outputElement.steps;\n",
              "\n",
              "  const next = steps.next(outputElement.lastPromiseValue);\n",
              "  return Promise.resolve(next.value.promise).then((value) => {\n",
              "    // Cache the last promise value to make it available to the next\n",
              "    // step of the generator.\n",
              "    outputElement.lastPromiseValue = value;\n",
              "    return next.value.response;\n",
              "  });\n",
              "}\n",
              "\n",
              "/**\n",
              " * Generator function which is called between each async step of the upload\n",
              " * process.\n",
              " * @param {string} inputId Element ID of the input file picker element.\n",
              " * @param {string} outputId Element ID of the output display.\n",
              " * @return {!Iterable<!Object>} Iterable of next steps.\n",
              " */\n",
              "function* uploadFilesStep(inputId, outputId) {\n",
              "  const inputElement = document.getElementById(inputId);\n",
              "  inputElement.disabled = false;\n",
              "\n",
              "  const outputElement = document.getElementById(outputId);\n",
              "  outputElement.innerHTML = '';\n",
              "\n",
              "  const pickedPromise = new Promise((resolve) => {\n",
              "    inputElement.addEventListener('change', (e) => {\n",
              "      resolve(e.target.files);\n",
              "    });\n",
              "  });\n",
              "\n",
              "  const cancel = document.createElement('button');\n",
              "  inputElement.parentElement.appendChild(cancel);\n",
              "  cancel.textContent = 'Cancel upload';\n",
              "  const cancelPromise = new Promise((resolve) => {\n",
              "    cancel.onclick = () => {\n",
              "      resolve(null);\n",
              "    };\n",
              "  });\n",
              "\n",
              "  // Wait for the user to pick the files.\n",
              "  const files = yield {\n",
              "    promise: Promise.race([pickedPromise, cancelPromise]),\n",
              "    response: {\n",
              "      action: 'starting',\n",
              "    }\n",
              "  };\n",
              "\n",
              "  cancel.remove();\n",
              "\n",
              "  // Disable the input element since further picks are not allowed.\n",
              "  inputElement.disabled = true;\n",
              "\n",
              "  if (!files) {\n",
              "    return {\n",
              "      response: {\n",
              "        action: 'complete',\n",
              "      }\n",
              "    };\n",
              "  }\n",
              "\n",
              "  for (const file of files) {\n",
              "    const li = document.createElement('li');\n",
              "    li.append(span(file.name, {fontWeight: 'bold'}));\n",
              "    li.append(span(\n",
              "        `(${file.type || 'n/a'}) - ${file.size} bytes, ` +\n",
              "        `last modified: ${\n",
              "            file.lastModifiedDate ? file.lastModifiedDate.toLocaleDateString() :\n",
              "                                    'n/a'} - `));\n",
              "    const percent = span('0% done');\n",
              "    li.appendChild(percent);\n",
              "\n",
              "    outputElement.appendChild(li);\n",
              "\n",
              "    const fileDataPromise = new Promise((resolve) => {\n",
              "      const reader = new FileReader();\n",
              "      reader.onload = (e) => {\n",
              "        resolve(e.target.result);\n",
              "      };\n",
              "      reader.readAsArrayBuffer(file);\n",
              "    });\n",
              "    // Wait for the data to be ready.\n",
              "    let fileData = yield {\n",
              "      promise: fileDataPromise,\n",
              "      response: {\n",
              "        action: 'continue',\n",
              "      }\n",
              "    };\n",
              "\n",
              "    // Use a chunked sending to avoid message size limits. See b/62115660.\n",
              "    let position = 0;\n",
              "    do {\n",
              "      const length = Math.min(fileData.byteLength - position, MAX_PAYLOAD_SIZE);\n",
              "      const chunk = new Uint8Array(fileData, position, length);\n",
              "      position += length;\n",
              "\n",
              "      const base64 = btoa(String.fromCharCode.apply(null, chunk));\n",
              "      yield {\n",
              "        response: {\n",
              "          action: 'append',\n",
              "          file: file.name,\n",
              "          data: base64,\n",
              "        },\n",
              "      };\n",
              "\n",
              "      let percentDone = fileData.byteLength === 0 ?\n",
              "          100 :\n",
              "          Math.round((position / fileData.byteLength) * 100);\n",
              "      percent.textContent = `${percentDone}% done`;\n",
              "\n",
              "    } while (position < fileData.byteLength);\n",
              "  }\n",
              "\n",
              "  // All done.\n",
              "  yield {\n",
              "    response: {\n",
              "      action: 'complete',\n",
              "    }\n",
              "  };\n",
              "}\n",
              "\n",
              "scope.google = scope.google || {};\n",
              "scope.google.colab = scope.google.colab || {};\n",
              "scope.google.colab._files = {\n",
              "  _uploadFiles,\n",
              "  _uploadFilesContinue,\n",
              "};\n",
              "})(self);\n",
              "</script> "
            ]
          },
          "metadata": {}
        },
        {
          "output_type": "stream",
          "name": "stdout",
          "text": [
            "Saving restaurant_reviews.csv to restaurant_reviews.csv\n"
          ]
        }
      ]
    },
    {
      "cell_type": "markdown",
      "id": "fc1df660",
      "metadata": {
        "id": "fc1df660"
      },
      "source": [
        "## data loading and cleaning"
      ]
    },
    {
      "cell_type": "code",
      "execution_count": 3,
      "id": "533335e9",
      "metadata": {
        "colab": {
          "base_uri": "https://localhost:8080/",
          "height": 345
        },
        "id": "533335e9",
        "outputId": "879927a1-5acd-4f0c-8a3f-40f3af1ca65d"
      },
      "outputs": [
        {
          "output_type": "stream",
          "name": "stdout",
          "text": [
            "Data loaded and cleaned successfully.\n",
            "Shape of the dataframe: (9810, 2)\n"
          ]
        },
        {
          "output_type": "execute_result",
          "data": {
            "text/plain": [
              "                                                                                                                                                                                                                                 Review  \\\n",
              "0  The ambience was good, food was quite good . had Saturday lunch , which was cost effective .\\r\\nGood place for a sate brunch. One can also chill with friends and or parents.\\r\\nWaiter Soumen Das was really courteous and helpful.   \n",
              "1                                                                                      Ambience is too good for a pleasant evening. Service is very prompt. Food is good. Over all a good experience. Soumen Das - kudos to the service   \n",
              "2                                         A must try.. great food great ambience. Thnx for the service by Pradeep and Subroto. My personal recommendation is Penne Alfredo Pasta:) ....... Also the music in the background is amazing.   \n",
              "3                                                                                  Soumen das and Arun was a great guy. Only because of their behavior and sincerety, And good food off course, I would like to visit this place again.   \n",
              "4                                                                      Food is good.we ordered Kodi drumsticks and basket mutton biryani. All are good. Thanks to Pradeep. He served well. We enjoyed here. Ambience is also very good.   \n",
              "\n",
              "   Rating  \n",
              "0       5  \n",
              "1       5  \n",
              "2       5  \n",
              "3       5  \n",
              "4       5  "
            ],
            "text/html": [
              "\n",
              "  <div id=\"df-4c4bc13c-9224-41c5-b544-a89906bd212a\" class=\"colab-df-container\">\n",
              "    <div>\n",
              "<style scoped>\n",
              "    .dataframe tbody tr th:only-of-type {\n",
              "        vertical-align: middle;\n",
              "    }\n",
              "\n",
              "    .dataframe tbody tr th {\n",
              "        vertical-align: top;\n",
              "    }\n",
              "\n",
              "    .dataframe thead th {\n",
              "        text-align: right;\n",
              "    }\n",
              "</style>\n",
              "<table border=\"1\" class=\"dataframe\">\n",
              "  <thead>\n",
              "    <tr style=\"text-align: right;\">\n",
              "      <th></th>\n",
              "      <th>Review</th>\n",
              "      <th>Rating</th>\n",
              "    </tr>\n",
              "  </thead>\n",
              "  <tbody>\n",
              "    <tr>\n",
              "      <th>0</th>\n",
              "      <td>The ambience was good, food was quite good . had Saturday lunch , which was cost effective .\\r\\nGood place for a sate brunch. One can also chill with friends and or parents.\\r\\nWaiter Soumen Das was really courteous and helpful.</td>\n",
              "      <td>5</td>\n",
              "    </tr>\n",
              "    <tr>\n",
              "      <th>1</th>\n",
              "      <td>Ambience is too good for a pleasant evening. Service is very prompt. Food is good. Over all a good experience. Soumen Das - kudos to the service</td>\n",
              "      <td>5</td>\n",
              "    </tr>\n",
              "    <tr>\n",
              "      <th>2</th>\n",
              "      <td>A must try.. great food great ambience. Thnx for the service by Pradeep and Subroto. My personal recommendation is Penne Alfredo Pasta:) ....... Also the music in the background is amazing.</td>\n",
              "      <td>5</td>\n",
              "    </tr>\n",
              "    <tr>\n",
              "      <th>3</th>\n",
              "      <td>Soumen das and Arun was a great guy. Only because of their behavior and sincerety, And good food off course, I would like to visit this place again.</td>\n",
              "      <td>5</td>\n",
              "    </tr>\n",
              "    <tr>\n",
              "      <th>4</th>\n",
              "      <td>Food is good.we ordered Kodi drumsticks and basket mutton biryani. All are good. Thanks to Pradeep. He served well. We enjoyed here. Ambience is also very good.</td>\n",
              "      <td>5</td>\n",
              "    </tr>\n",
              "  </tbody>\n",
              "</table>\n",
              "</div>\n",
              "    <div class=\"colab-df-buttons\">\n",
              "\n",
              "  <div class=\"colab-df-container\">\n",
              "    <button class=\"colab-df-convert\" onclick=\"convertToInteractive('df-4c4bc13c-9224-41c5-b544-a89906bd212a')\"\n",
              "            title=\"Convert this dataframe to an interactive table.\"\n",
              "            style=\"display:none;\">\n",
              "\n",
              "  <svg xmlns=\"http://www.w3.org/2000/svg\" height=\"24px\" viewBox=\"0 -960 960 960\">\n",
              "    <path d=\"M120-120v-720h720v720H120Zm60-500h600v-160H180v160Zm220 220h160v-160H400v160Zm0 220h160v-160H400v160ZM180-400h160v-160H180v160Zm440 0h160v-160H620v160ZM180-180h160v-160H180v160Zm440 0h160v-160H620v160Z\"/>\n",
              "  </svg>\n",
              "    </button>\n",
              "\n",
              "  <style>\n",
              "    .colab-df-container {\n",
              "      display:flex;\n",
              "      gap: 12px;\n",
              "    }\n",
              "\n",
              "    .colab-df-convert {\n",
              "      background-color: #E8F0FE;\n",
              "      border: none;\n",
              "      border-radius: 50%;\n",
              "      cursor: pointer;\n",
              "      display: none;\n",
              "      fill: #1967D2;\n",
              "      height: 32px;\n",
              "      padding: 0 0 0 0;\n",
              "      width: 32px;\n",
              "    }\n",
              "\n",
              "    .colab-df-convert:hover {\n",
              "      background-color: #E2EBFA;\n",
              "      box-shadow: 0px 1px 2px rgba(60, 64, 67, 0.3), 0px 1px 3px 1px rgba(60, 64, 67, 0.15);\n",
              "      fill: #174EA6;\n",
              "    }\n",
              "\n",
              "    .colab-df-buttons div {\n",
              "      margin-bottom: 4px;\n",
              "    }\n",
              "\n",
              "    [theme=dark] .colab-df-convert {\n",
              "      background-color: #3B4455;\n",
              "      fill: #D2E3FC;\n",
              "    }\n",
              "\n",
              "    [theme=dark] .colab-df-convert:hover {\n",
              "      background-color: #434B5C;\n",
              "      box-shadow: 0px 1px 3px 1px rgba(0, 0, 0, 0.15);\n",
              "      filter: drop-shadow(0px 1px 2px rgba(0, 0, 0, 0.3));\n",
              "      fill: #FFFFFF;\n",
              "    }\n",
              "  </style>\n",
              "\n",
              "    <script>\n",
              "      const buttonEl =\n",
              "        document.querySelector('#df-4c4bc13c-9224-41c5-b544-a89906bd212a button.colab-df-convert');\n",
              "      buttonEl.style.display =\n",
              "        google.colab.kernel.accessAllowed ? 'block' : 'none';\n",
              "\n",
              "      async function convertToInteractive(key) {\n",
              "        const element = document.querySelector('#df-4c4bc13c-9224-41c5-b544-a89906bd212a');\n",
              "        const dataTable =\n",
              "          await google.colab.kernel.invokeFunction('convertToInteractive',\n",
              "                                                    [key], {});\n",
              "        if (!dataTable) return;\n",
              "\n",
              "        const docLinkHtml = 'Like what you see? Visit the ' +\n",
              "          '<a target=\"_blank\" href=https://colab.research.google.com/notebooks/data_table.ipynb>data table notebook</a>'\n",
              "          + ' to learn more about interactive tables.';\n",
              "        element.innerHTML = '';\n",
              "        dataTable['output_type'] = 'display_data';\n",
              "        await google.colab.output.renderOutput(dataTable, element);\n",
              "        const docLink = document.createElement('div');\n",
              "        docLink.innerHTML = docLinkHtml;\n",
              "        element.appendChild(docLink);\n",
              "      }\n",
              "    </script>\n",
              "  </div>\n",
              "\n",
              "\n",
              "    <div id=\"df-ed1b8caa-9d28-4355-8cfa-11de7ea9b160\">\n",
              "      <button class=\"colab-df-quickchart\" onclick=\"quickchart('df-ed1b8caa-9d28-4355-8cfa-11de7ea9b160')\"\n",
              "                title=\"Suggest charts\"\n",
              "                style=\"display:none;\">\n",
              "\n",
              "<svg xmlns=\"http://www.w3.org/2000/svg\" height=\"24px\"viewBox=\"0 0 24 24\"\n",
              "     width=\"24px\">\n",
              "    <g>\n",
              "        <path d=\"M19 3H5c-1.1 0-2 .9-2 2v14c0 1.1.9 2 2 2h14c1.1 0 2-.9 2-2V5c0-1.1-.9-2-2-2zM9 17H7v-7h2v7zm4 0h-2V7h2v10zm4 0h-2v-4h2v4z\"/>\n",
              "    </g>\n",
              "</svg>\n",
              "      </button>\n",
              "\n",
              "<style>\n",
              "  .colab-df-quickchart {\n",
              "      --bg-color: #E8F0FE;\n",
              "      --fill-color: #1967D2;\n",
              "      --hover-bg-color: #E2EBFA;\n",
              "      --hover-fill-color: #174EA6;\n",
              "      --disabled-fill-color: #AAA;\n",
              "      --disabled-bg-color: #DDD;\n",
              "  }\n",
              "\n",
              "  [theme=dark] .colab-df-quickchart {\n",
              "      --bg-color: #3B4455;\n",
              "      --fill-color: #D2E3FC;\n",
              "      --hover-bg-color: #434B5C;\n",
              "      --hover-fill-color: #FFFFFF;\n",
              "      --disabled-bg-color: #3B4455;\n",
              "      --disabled-fill-color: #666;\n",
              "  }\n",
              "\n",
              "  .colab-df-quickchart {\n",
              "    background-color: var(--bg-color);\n",
              "    border: none;\n",
              "    border-radius: 50%;\n",
              "    cursor: pointer;\n",
              "    display: none;\n",
              "    fill: var(--fill-color);\n",
              "    height: 32px;\n",
              "    padding: 0;\n",
              "    width: 32px;\n",
              "  }\n",
              "\n",
              "  .colab-df-quickchart:hover {\n",
              "    background-color: var(--hover-bg-color);\n",
              "    box-shadow: 0 1px 2px rgba(60, 64, 67, 0.3), 0 1px 3px 1px rgba(60, 64, 67, 0.15);\n",
              "    fill: var(--button-hover-fill-color);\n",
              "  }\n",
              "\n",
              "  .colab-df-quickchart-complete:disabled,\n",
              "  .colab-df-quickchart-complete:disabled:hover {\n",
              "    background-color: var(--disabled-bg-color);\n",
              "    fill: var(--disabled-fill-color);\n",
              "    box-shadow: none;\n",
              "  }\n",
              "\n",
              "  .colab-df-spinner {\n",
              "    border: 2px solid var(--fill-color);\n",
              "    border-color: transparent;\n",
              "    border-bottom-color: var(--fill-color);\n",
              "    animation:\n",
              "      spin 1s steps(1) infinite;\n",
              "  }\n",
              "\n",
              "  @keyframes spin {\n",
              "    0% {\n",
              "      border-color: transparent;\n",
              "      border-bottom-color: var(--fill-color);\n",
              "      border-left-color: var(--fill-color);\n",
              "    }\n",
              "    20% {\n",
              "      border-color: transparent;\n",
              "      border-left-color: var(--fill-color);\n",
              "      border-top-color: var(--fill-color);\n",
              "    }\n",
              "    30% {\n",
              "      border-color: transparent;\n",
              "      border-left-color: var(--fill-color);\n",
              "      border-top-color: var(--fill-color);\n",
              "      border-right-color: var(--fill-color);\n",
              "    }\n",
              "    40% {\n",
              "      border-color: transparent;\n",
              "      border-right-color: var(--fill-color);\n",
              "      border-top-color: var(--fill-color);\n",
              "    }\n",
              "    60% {\n",
              "      border-color: transparent;\n",
              "      border-right-color: var(--fill-color);\n",
              "    }\n",
              "    80% {\n",
              "      border-color: transparent;\n",
              "      border-right-color: var(--fill-color);\n",
              "      border-bottom-color: var(--fill-color);\n",
              "    }\n",
              "    90% {\n",
              "      border-color: transparent;\n",
              "      border-bottom-color: var(--fill-color);\n",
              "    }\n",
              "  }\n",
              "</style>\n",
              "\n",
              "      <script>\n",
              "        async function quickchart(key) {\n",
              "          const quickchartButtonEl =\n",
              "            document.querySelector('#' + key + ' button');\n",
              "          quickchartButtonEl.disabled = true;  // To prevent multiple clicks.\n",
              "          quickchartButtonEl.classList.add('colab-df-spinner');\n",
              "          try {\n",
              "            const charts = await google.colab.kernel.invokeFunction(\n",
              "                'suggestCharts', [key], {});\n",
              "          } catch (error) {\n",
              "            console.error('Error during call to suggestCharts:', error);\n",
              "          }\n",
              "          quickchartButtonEl.classList.remove('colab-df-spinner');\n",
              "          quickchartButtonEl.classList.add('colab-df-quickchart-complete');\n",
              "        }\n",
              "        (() => {\n",
              "          let quickchartButtonEl =\n",
              "            document.querySelector('#df-ed1b8caa-9d28-4355-8cfa-11de7ea9b160 button');\n",
              "          quickchartButtonEl.style.display =\n",
              "            google.colab.kernel.accessAllowed ? 'block' : 'none';\n",
              "        })();\n",
              "      </script>\n",
              "    </div>\n",
              "\n",
              "    </div>\n",
              "  </div>\n"
            ],
            "application/vnd.google.colaboratory.intrinsic+json": {
              "type": "dataframe",
              "variable_name": "df",
              "summary": "{\n  \"name\": \"df\",\n  \"rows\": 9810,\n  \"fields\": [\n    {\n      \"column\": \"Review\",\n      \"properties\": {\n        \"dtype\": \"string\",\n        \"num_unique_values\": 9219,\n        \"samples\": [\n          \"I visited Collage with friends and was impressed by the ambiance and the service. My server Tushar was very patient and attentive. Tried his suggestion of pasta and it turned out delicious. I would definitely recommend this place again.\",\n          \"Can't order for my address ever... So I Leo switching back to swiggy and ordering something else.\\r\\nGreen Grace Apartments, Khajaguda Village adj to the Oakridge International school is just not available to order\",\n          \"Been to OTMBC basing on friends suggestion.Keep reminded that stags r not allowed to ground floor may be on weekends. Disappointing but we made our minds to get onto first floor, gracious ambience,nice music and courteous staff. Multiple options to try from their Brewery and food was ok. Recommended place for hangouts with friends...\"\n        ],\n        \"semantic_type\": \"\",\n        \"description\": \"\"\n      }\n    },\n    {\n      \"column\": \"Rating\",\n      \"properties\": {\n        \"dtype\": \"number\",\n        \"std\": 1,\n        \"min\": 1,\n        \"max\": 5,\n        \"num_unique_values\": 5,\n        \"samples\": [\n          4,\n          2,\n          1\n        ],\n        \"semantic_type\": \"\",\n        \"description\": \"\"\n      }\n    }\n  ]\n}"
            }
          },
          "metadata": {},
          "execution_count": 3
        }
      ],
      "source": [
        "import pandas as pd\n",
        "\n",
        "# Load the dataset using the correct relative path\n",
        "df = pd.read_csv('restaurant_reviews.csv')\n",
        "\n",
        "# Select the necessary columns and drop rows with missing ratings\n",
        "df = df[['Review','Rating']]\n",
        "df = df.dropna(subset=[\"Rating\", \"Review\"])\n",
        "\n",
        "# Ensure ratings are digits and convert the column to integer type\n",
        "df = df[df[\"Rating\"].apply(lambda x: str(x).isdigit())]\n",
        "df[\"Rating\"] = df[\"Rating\"].astype(int)\n",
        "\n",
        "# Ensure the 'Review' column is always a string\n",
        "df['Review'] = df['Review'].astype(str)\n",
        "\n",
        "print(\"Data loaded and cleaned successfully.\")\n",
        "print(f\"Shape of the dataframe: {df.shape}\")\n",
        "df.head()\n",
        "\n"
      ]
    },
    {
      "cell_type": "markdown",
      "id": "03983084",
      "metadata": {
        "id": "03983084"
      },
      "source": [
        "MAP rating and setiment"
      ]
    },
    {
      "cell_type": "code",
      "execution_count": 4,
      "id": "cb6994bf",
      "metadata": {
        "colab": {
          "base_uri": "https://localhost:8080/",
          "height": 328
        },
        "id": "cb6994bf",
        "outputId": "eb628c4a-9223-4aea-d832-31fc8db3dc48"
      },
      "outputs": [
        {
          "output_type": "stream",
          "name": "stdout",
          "text": [
            "Sentiment column created.\n"
          ]
        },
        {
          "output_type": "execute_result",
          "data": {
            "text/plain": [
              "                                                                                                                                                                                                                                 Review  \\\n",
              "0  The ambience was good, food was quite good . had Saturday lunch , which was cost effective .\\r\\nGood place for a sate brunch. One can also chill with friends and or parents.\\r\\nWaiter Soumen Das was really courteous and helpful.   \n",
              "1                                                                                      Ambience is too good for a pleasant evening. Service is very prompt. Food is good. Over all a good experience. Soumen Das - kudos to the service   \n",
              "2                                         A must try.. great food great ambience. Thnx for the service by Pradeep and Subroto. My personal recommendation is Penne Alfredo Pasta:) ....... Also the music in the background is amazing.   \n",
              "3                                                                                  Soumen das and Arun was a great guy. Only because of their behavior and sincerety, And good food off course, I would like to visit this place again.   \n",
              "4                                                                      Food is good.we ordered Kodi drumsticks and basket mutton biryani. All are good. Thanks to Pradeep. He served well. We enjoyed here. Ambience is also very good.   \n",
              "\n",
              "   Rating Sentiment  \n",
              "0       5  positive  \n",
              "1       5  positive  \n",
              "2       5  positive  \n",
              "3       5  positive  \n",
              "4       5  positive  "
            ],
            "text/html": [
              "\n",
              "  <div id=\"df-98fc26f8-e727-42b6-be69-f43dfedd9fee\" class=\"colab-df-container\">\n",
              "    <div>\n",
              "<style scoped>\n",
              "    .dataframe tbody tr th:only-of-type {\n",
              "        vertical-align: middle;\n",
              "    }\n",
              "\n",
              "    .dataframe tbody tr th {\n",
              "        vertical-align: top;\n",
              "    }\n",
              "\n",
              "    .dataframe thead th {\n",
              "        text-align: right;\n",
              "    }\n",
              "</style>\n",
              "<table border=\"1\" class=\"dataframe\">\n",
              "  <thead>\n",
              "    <tr style=\"text-align: right;\">\n",
              "      <th></th>\n",
              "      <th>Review</th>\n",
              "      <th>Rating</th>\n",
              "      <th>Sentiment</th>\n",
              "    </tr>\n",
              "  </thead>\n",
              "  <tbody>\n",
              "    <tr>\n",
              "      <th>0</th>\n",
              "      <td>The ambience was good, food was quite good . had Saturday lunch , which was cost effective .\\r\\nGood place for a sate brunch. One can also chill with friends and or parents.\\r\\nWaiter Soumen Das was really courteous and helpful.</td>\n",
              "      <td>5</td>\n",
              "      <td>positive</td>\n",
              "    </tr>\n",
              "    <tr>\n",
              "      <th>1</th>\n",
              "      <td>Ambience is too good for a pleasant evening. Service is very prompt. Food is good. Over all a good experience. Soumen Das - kudos to the service</td>\n",
              "      <td>5</td>\n",
              "      <td>positive</td>\n",
              "    </tr>\n",
              "    <tr>\n",
              "      <th>2</th>\n",
              "      <td>A must try.. great food great ambience. Thnx for the service by Pradeep and Subroto. My personal recommendation is Penne Alfredo Pasta:) ....... Also the music in the background is amazing.</td>\n",
              "      <td>5</td>\n",
              "      <td>positive</td>\n",
              "    </tr>\n",
              "    <tr>\n",
              "      <th>3</th>\n",
              "      <td>Soumen das and Arun was a great guy. Only because of their behavior and sincerety, And good food off course, I would like to visit this place again.</td>\n",
              "      <td>5</td>\n",
              "      <td>positive</td>\n",
              "    </tr>\n",
              "    <tr>\n",
              "      <th>4</th>\n",
              "      <td>Food is good.we ordered Kodi drumsticks and basket mutton biryani. All are good. Thanks to Pradeep. He served well. We enjoyed here. Ambience is also very good.</td>\n",
              "      <td>5</td>\n",
              "      <td>positive</td>\n",
              "    </tr>\n",
              "  </tbody>\n",
              "</table>\n",
              "</div>\n",
              "    <div class=\"colab-df-buttons\">\n",
              "\n",
              "  <div class=\"colab-df-container\">\n",
              "    <button class=\"colab-df-convert\" onclick=\"convertToInteractive('df-98fc26f8-e727-42b6-be69-f43dfedd9fee')\"\n",
              "            title=\"Convert this dataframe to an interactive table.\"\n",
              "            style=\"display:none;\">\n",
              "\n",
              "  <svg xmlns=\"http://www.w3.org/2000/svg\" height=\"24px\" viewBox=\"0 -960 960 960\">\n",
              "    <path d=\"M120-120v-720h720v720H120Zm60-500h600v-160H180v160Zm220 220h160v-160H400v160Zm0 220h160v-160H400v160ZM180-400h160v-160H180v160Zm440 0h160v-160H620v160ZM180-180h160v-160H180v160Zm440 0h160v-160H620v160Z\"/>\n",
              "  </svg>\n",
              "    </button>\n",
              "\n",
              "  <style>\n",
              "    .colab-df-container {\n",
              "      display:flex;\n",
              "      gap: 12px;\n",
              "    }\n",
              "\n",
              "    .colab-df-convert {\n",
              "      background-color: #E8F0FE;\n",
              "      border: none;\n",
              "      border-radius: 50%;\n",
              "      cursor: pointer;\n",
              "      display: none;\n",
              "      fill: #1967D2;\n",
              "      height: 32px;\n",
              "      padding: 0 0 0 0;\n",
              "      width: 32px;\n",
              "    }\n",
              "\n",
              "    .colab-df-convert:hover {\n",
              "      background-color: #E2EBFA;\n",
              "      box-shadow: 0px 1px 2px rgba(60, 64, 67, 0.3), 0px 1px 3px 1px rgba(60, 64, 67, 0.15);\n",
              "      fill: #174EA6;\n",
              "    }\n",
              "\n",
              "    .colab-df-buttons div {\n",
              "      margin-bottom: 4px;\n",
              "    }\n",
              "\n",
              "    [theme=dark] .colab-df-convert {\n",
              "      background-color: #3B4455;\n",
              "      fill: #D2E3FC;\n",
              "    }\n",
              "\n",
              "    [theme=dark] .colab-df-convert:hover {\n",
              "      background-color: #434B5C;\n",
              "      box-shadow: 0px 1px 3px 1px rgba(0, 0, 0, 0.15);\n",
              "      filter: drop-shadow(0px 1px 2px rgba(0, 0, 0, 0.3));\n",
              "      fill: #FFFFFF;\n",
              "    }\n",
              "  </style>\n",
              "\n",
              "    <script>\n",
              "      const buttonEl =\n",
              "        document.querySelector('#df-98fc26f8-e727-42b6-be69-f43dfedd9fee button.colab-df-convert');\n",
              "      buttonEl.style.display =\n",
              "        google.colab.kernel.accessAllowed ? 'block' : 'none';\n",
              "\n",
              "      async function convertToInteractive(key) {\n",
              "        const element = document.querySelector('#df-98fc26f8-e727-42b6-be69-f43dfedd9fee');\n",
              "        const dataTable =\n",
              "          await google.colab.kernel.invokeFunction('convertToInteractive',\n",
              "                                                    [key], {});\n",
              "        if (!dataTable) return;\n",
              "\n",
              "        const docLinkHtml = 'Like what you see? Visit the ' +\n",
              "          '<a target=\"_blank\" href=https://colab.research.google.com/notebooks/data_table.ipynb>data table notebook</a>'\n",
              "          + ' to learn more about interactive tables.';\n",
              "        element.innerHTML = '';\n",
              "        dataTable['output_type'] = 'display_data';\n",
              "        await google.colab.output.renderOutput(dataTable, element);\n",
              "        const docLink = document.createElement('div');\n",
              "        docLink.innerHTML = docLinkHtml;\n",
              "        element.appendChild(docLink);\n",
              "      }\n",
              "    </script>\n",
              "  </div>\n",
              "\n",
              "\n",
              "    <div id=\"df-3130b436-1a49-4484-a895-4f043396e33f\">\n",
              "      <button class=\"colab-df-quickchart\" onclick=\"quickchart('df-3130b436-1a49-4484-a895-4f043396e33f')\"\n",
              "                title=\"Suggest charts\"\n",
              "                style=\"display:none;\">\n",
              "\n",
              "<svg xmlns=\"http://www.w3.org/2000/svg\" height=\"24px\"viewBox=\"0 0 24 24\"\n",
              "     width=\"24px\">\n",
              "    <g>\n",
              "        <path d=\"M19 3H5c-1.1 0-2 .9-2 2v14c0 1.1.9 2 2 2h14c1.1 0 2-.9 2-2V5c0-1.1-.9-2-2-2zM9 17H7v-7h2v7zm4 0h-2V7h2v10zm4 0h-2v-4h2v4z\"/>\n",
              "    </g>\n",
              "</svg>\n",
              "      </button>\n",
              "\n",
              "<style>\n",
              "  .colab-df-quickchart {\n",
              "      --bg-color: #E8F0FE;\n",
              "      --fill-color: #1967D2;\n",
              "      --hover-bg-color: #E2EBFA;\n",
              "      --hover-fill-color: #174EA6;\n",
              "      --disabled-fill-color: #AAA;\n",
              "      --disabled-bg-color: #DDD;\n",
              "  }\n",
              "\n",
              "  [theme=dark] .colab-df-quickchart {\n",
              "      --bg-color: #3B4455;\n",
              "      --fill-color: #D2E3FC;\n",
              "      --hover-bg-color: #434B5C;\n",
              "      --hover-fill-color: #FFFFFF;\n",
              "      --disabled-bg-color: #3B4455;\n",
              "      --disabled-fill-color: #666;\n",
              "  }\n",
              "\n",
              "  .colab-df-quickchart {\n",
              "    background-color: var(--bg-color);\n",
              "    border: none;\n",
              "    border-radius: 50%;\n",
              "    cursor: pointer;\n",
              "    display: none;\n",
              "    fill: var(--fill-color);\n",
              "    height: 32px;\n",
              "    padding: 0;\n",
              "    width: 32px;\n",
              "  }\n",
              "\n",
              "  .colab-df-quickchart:hover {\n",
              "    background-color: var(--hover-bg-color);\n",
              "    box-shadow: 0 1px 2px rgba(60, 64, 67, 0.3), 0 1px 3px 1px rgba(60, 64, 67, 0.15);\n",
              "    fill: var(--button-hover-fill-color);\n",
              "  }\n",
              "\n",
              "  .colab-df-quickchart-complete:disabled,\n",
              "  .colab-df-quickchart-complete:disabled:hover {\n",
              "    background-color: var(--disabled-bg-color);\n",
              "    fill: var(--disabled-fill-color);\n",
              "    box-shadow: none;\n",
              "  }\n",
              "\n",
              "  .colab-df-spinner {\n",
              "    border: 2px solid var(--fill-color);\n",
              "    border-color: transparent;\n",
              "    border-bottom-color: var(--fill-color);\n",
              "    animation:\n",
              "      spin 1s steps(1) infinite;\n",
              "  }\n",
              "\n",
              "  @keyframes spin {\n",
              "    0% {\n",
              "      border-color: transparent;\n",
              "      border-bottom-color: var(--fill-color);\n",
              "      border-left-color: var(--fill-color);\n",
              "    }\n",
              "    20% {\n",
              "      border-color: transparent;\n",
              "      border-left-color: var(--fill-color);\n",
              "      border-top-color: var(--fill-color);\n",
              "    }\n",
              "    30% {\n",
              "      border-color: transparent;\n",
              "      border-left-color: var(--fill-color);\n",
              "      border-top-color: var(--fill-color);\n",
              "      border-right-color: var(--fill-color);\n",
              "    }\n",
              "    40% {\n",
              "      border-color: transparent;\n",
              "      border-right-color: var(--fill-color);\n",
              "      border-top-color: var(--fill-color);\n",
              "    }\n",
              "    60% {\n",
              "      border-color: transparent;\n",
              "      border-right-color: var(--fill-color);\n",
              "    }\n",
              "    80% {\n",
              "      border-color: transparent;\n",
              "      border-right-color: var(--fill-color);\n",
              "      border-bottom-color: var(--fill-color);\n",
              "    }\n",
              "    90% {\n",
              "      border-color: transparent;\n",
              "      border-bottom-color: var(--fill-color);\n",
              "    }\n",
              "  }\n",
              "</style>\n",
              "\n",
              "      <script>\n",
              "        async function quickchart(key) {\n",
              "          const quickchartButtonEl =\n",
              "            document.querySelector('#' + key + ' button');\n",
              "          quickchartButtonEl.disabled = true;  // To prevent multiple clicks.\n",
              "          quickchartButtonEl.classList.add('colab-df-spinner');\n",
              "          try {\n",
              "            const charts = await google.colab.kernel.invokeFunction(\n",
              "                'suggestCharts', [key], {});\n",
              "          } catch (error) {\n",
              "            console.error('Error during call to suggestCharts:', error);\n",
              "          }\n",
              "          quickchartButtonEl.classList.remove('colab-df-spinner');\n",
              "          quickchartButtonEl.classList.add('colab-df-quickchart-complete');\n",
              "        }\n",
              "        (() => {\n",
              "          let quickchartButtonEl =\n",
              "            document.querySelector('#df-3130b436-1a49-4484-a895-4f043396e33f button');\n",
              "          quickchartButtonEl.style.display =\n",
              "            google.colab.kernel.accessAllowed ? 'block' : 'none';\n",
              "        })();\n",
              "      </script>\n",
              "    </div>\n",
              "\n",
              "    </div>\n",
              "  </div>\n"
            ],
            "application/vnd.google.colaboratory.intrinsic+json": {
              "type": "dataframe",
              "variable_name": "df",
              "summary": "{\n  \"name\": \"df\",\n  \"rows\": 9810,\n  \"fields\": [\n    {\n      \"column\": \"Review\",\n      \"properties\": {\n        \"dtype\": \"string\",\n        \"num_unique_values\": 9219,\n        \"samples\": [\n          \"I visited Collage with friends and was impressed by the ambiance and the service. My server Tushar was very patient and attentive. Tried his suggestion of pasta and it turned out delicious. I would definitely recommend this place again.\",\n          \"Can't order for my address ever... So I Leo switching back to swiggy and ordering something else.\\r\\nGreen Grace Apartments, Khajaguda Village adj to the Oakridge International school is just not available to order\",\n          \"Been to OTMBC basing on friends suggestion.Keep reminded that stags r not allowed to ground floor may be on weekends. Disappointing but we made our minds to get onto first floor, gracious ambience,nice music and courteous staff. Multiple options to try from their Brewery and food was ok. Recommended place for hangouts with friends...\"\n        ],\n        \"semantic_type\": \"\",\n        \"description\": \"\"\n      }\n    },\n    {\n      \"column\": \"Rating\",\n      \"properties\": {\n        \"dtype\": \"number\",\n        \"std\": 1,\n        \"min\": 1,\n        \"max\": 5,\n        \"num_unique_values\": 5,\n        \"samples\": [\n          4,\n          2,\n          1\n        ],\n        \"semantic_type\": \"\",\n        \"description\": \"\"\n      }\n    },\n    {\n      \"column\": \"Sentiment\",\n      \"properties\": {\n        \"dtype\": \"category\",\n        \"num_unique_values\": 3,\n        \"samples\": [\n          \"positive\",\n          \"negative\",\n          \"neutral\"\n        ],\n        \"semantic_type\": \"\",\n        \"description\": \"\"\n      }\n    }\n  ]\n}"
            }
          },
          "metadata": {},
          "execution_count": 4
        }
      ],
      "source": [
        "def map_sentiment(rating):\n",
        "    if rating > 3:\n",
        "        return \"positive\"\n",
        "    elif rating < 3:\n",
        "        return \"negative\"\n",
        "    else:\n",
        "        return \"neutral\"\n",
        "\n",
        "df[\"Sentiment\"] = df[\"Rating\"].apply(map_sentiment)\n",
        "\n",
        "print(\"Sentiment column created.\")\n",
        "df.head()\n"
      ]
    },
    {
      "cell_type": "markdown",
      "id": "7a5796b6",
      "metadata": {
        "id": "7a5796b6"
      },
      "source": [
        "check class balances\n"
      ]
    },
    {
      "cell_type": "code",
      "execution_count": 5,
      "id": "113cf0ce",
      "metadata": {
        "colab": {
          "base_uri": "https://localhost:8080/",
          "height": 704
        },
        "id": "113cf0ce",
        "outputId": "1fe0c871-6fe0-4f14-ddb6-13e85be45261"
      },
      "outputs": [
        {
          "output_type": "stream",
          "name": "stderr",
          "text": [
            "/tmp/ipython-input-4068568349.py:3: FutureWarning: \n",
            "\n",
            "Passing `palette` without assigning `hue` is deprecated and will be removed in v0.14.0. Assign the `x` variable to `hue` and set `legend=False` for the same effect.\n",
            "\n",
            "  sns.countplot(x=\"Sentiment\", data=df, palette=\"coolwarm\", order=['positive', 'negative', 'neutral'])\n"
          ]
        },
        {
          "output_type": "display_data",
          "data": {
            "text/plain": [
              "<Figure size 800x500 with 1 Axes>"
            ],
            "image/png": "[encoded data removed]"
          },
          "metadata": {}
        },
        {
          "output_type": "stream",
          "name": "stdout",
          "text": [
            "Sentiment Value Counts (Normalized):\n",
            "Sentiment\n",
            "positive    0.631906\n",
            "negative    0.246585\n",
            "neutral     0.121509\n",
            "Name: proportion, dtype: float64\n"
          ]
        }
      ],
      "source": [
        "# Plot the sentiment distribution\n",
        "plt.figure(figsize=(8, 5))\n",
        "sns.countplot(x=\"Sentiment\", data=df, palette=\"coolwarm\", order=['positive', 'negative', 'neutral'])\n",
        "plt.title(\"Sentiment Distribution\", fontsize=16)\n",
        "plt.xlabel(\"Sentiment\", fontsize=12)\n",
        "plt.ylabel(\"Count\", fontsize=12)\n",
        "plt.show()\n",
        "\n",
        "# Display the exact value counts\n",
        "print(\"Sentiment Value Counts (Normalized):\")\n",
        "print(df[\"Sentiment\"].value_counts(normalize=True))\n"
      ]
    },
    {
      "cell_type": "markdown",
      "id": "c3bdedd7",
      "metadata": {
        "id": "c3bdedd7"
      },
      "source": [
        "text cleaning function"
      ]
    },
    {
      "cell_type": "code",
      "execution_count": 6,
      "id": "b7da0ba9",
      "metadata": {
        "colab": {
          "base_uri": "https://localhost:8080/"
        },
        "id": "b7da0ba9",
        "outputId": "f75fd4a3-0b22-41ff-a821-53d25645d6d5"
      },
      "outputs": [
        {
          "output_type": "stream",
          "name": "stdout",
          "text": [
            "Preprocessing function is ready.\n"
          ]
        },
        {
          "output_type": "stream",
          "name": "stderr",
          "text": [
            "[nltk_data] Downloading package stopwords to /root/nltk_data...\n",
            "[nltk_data]   Unzipping corpora/stopwords.zip.\n",
            "[nltk_data] Downloading package wordnet to /root/nltk_data...\n"
          ]
        }
      ],
      "source": [
        "# Download necessary NLTK data (only needs to be done once)\n",
        "nltk.download('stopwords')\n",
        "nltk.download('wordnet')\n",
        "\n",
        "# Initialize the lemmatizer and stopwords\n",
        "lemmatizer = WordNetLemmatizer()\n",
        "stop_words = set(stopwords.words('english'))\n",
        "\n",
        "def preprocess_text(text):\n",
        "    # Remove non-alphabetic characters and convert to lowercase\n",
        "    text = re.sub('[^a-zA-Z]', ' ', text).lower()\n",
        "\n",
        "    # Tokenize the text\n",
        "    words = text.split()\n",
        "\n",
        "    # Remove stopwords and lemmatize\n",
        "    lemmatized_words = [lemmatizer.lemmatize(word) for word in words if word not in stop_words]\n",
        "\n",
        "    return \" \".join(lemmatized_words)\n",
        "\n",
        "print(\"Preprocessing function is ready.\")\n"
      ]
    },
    {
      "cell_type": "markdown",
      "id": "130afaa5",
      "metadata": {
        "id": "130afaa5"
      },
      "source": [
        "preprocessing"
      ]
    },
    {
      "cell_type": "code",
      "execution_count": 7,
      "id": "ae613ed2",
      "metadata": {
        "colab": {
          "base_uri": "https://localhost:8080/"
        },
        "id": "ae613ed2",
        "outputId": "7a45e16b-28c2-4887-f2e8-bb7a74bd60c3"
      },
      "outputs": [
        {
          "output_type": "stream",
          "name": "stdout",
          "text": [
            "Text preprocessing complete. Here's a before-and-after example:\n",
            "\n",
            "--- ORIGINAL REVIEW ---\n",
            "The ambience was good, food was quite good . had Saturday lunch , which was cost effective .\r\n",
            "Good place for a sate brunch. One can also chill with friends and or parents.\r\n",
            "Waiter Soumen Das was really courteous and helpful.\n",
            "\n",
            "--- PROCESSED REVIEW ---\n",
            "ambience good food quite good saturday lunch cost effective good place sate brunch one also chill friend parent waiter soumen da really courteous helpful\n"
          ]
        }
      ],
      "source": [
        "# Apply the preprocessing function to the Review column\n",
        "# This may take a moment to run\n",
        "df['Processed_Review'] = df['Review'].apply(preprocess_text)\n",
        "\n",
        "print(\"Text preprocessing complete. Here's a before-and-after example:\")\n",
        "print(\"\\n--- ORIGINAL REVIEW ---\")\n",
        "print(df['Review'].iloc[0])\n",
        "print(\"\\n--- PROCESSED REVIEW ---\")\n",
        "print(df['Processed_Review'].iloc[0])\n"
      ]
    },
    {
      "cell_type": "markdown",
      "id": "3db5d4c3",
      "metadata": {
        "id": "3db5d4c3"
      },
      "source": [
        "TDF-IDF vectorization"
      ]
    },
    {
      "cell_type": "code",
      "execution_count": 8,
      "id": "f20d01c7",
      "metadata": {
        "colab": {
          "base_uri": "https://localhost:8080/"
        },
        "id": "f20d01c7",
        "outputId": "c64a7254-640f-4028-ee51-58d5a74f89ab"
      },
      "outputs": [
        {
          "output_type": "stream",
          "name": "stdout",
          "text": [
            "TF-IDF vectorization complete.\n",
            "Shape of the feature matrix (X): (9810, 5000)\n"
          ]
        }
      ],
      "source": [
        "# Initialize the TF-IDF Vectorizer\n",
        "# max_features limits the vocabulary size to the top 5000 words\n",
        "# ngram_range=(1,2) considers both single words and pairs of words (bigrams)\n",
        "tfidf = TfidfVectorizer(max_features=5000, ngram_range=(1,2))\n",
        "\n",
        "# Create the feature matrix (X) and target vector (y)\n",
        "X = tfidf.fit_transform(df['Processed_Review'])\n",
        "y = df['Sentiment']\n",
        "\n",
        "print(\"TF-IDF vectorization complete.\")\n",
        "print(f\"Shape of the feature matrix (X): {X.shape}\")\n"
      ]
    },
    {
      "cell_type": "markdown",
      "id": "73324376",
      "metadata": {
        "id": "73324376"
      },
      "source": [
        "split data"
      ]
    },
    {
      "cell_type": "code",
      "execution_count": 9,
      "id": "9c241bd9",
      "metadata": {
        "colab": {
          "base_uri": "https://localhost:8080/"
        },
        "id": "9c241bd9",
        "outputId": "b2f4187f-3427-4796-8d92-e636b46a56c2"
      },
      "outputs": [
        {
          "output_type": "stream",
          "name": "stdout",
          "text": [
            "Data splitting complete.\n",
            "Training data shape: (7848, 5000)\n",
            "Testing data shape: (1962, 5000)\n"
          ]
        }
      ],
      "source": [
        "# Split the data into training (80%) and testing (20%) sets\n",
        "X_train, X_test, y_train, y_test = train_test_split(\n",
        "    X, y,\n",
        "    test_size=0.2,\n",
        "    random_state=42, # for reproducibility\n",
        "    stratify=y       # IMPORTANT for imbalanced data\n",
        ")\n",
        "\n",
        "print(\"Data splitting complete.\")\n",
        "print(f\"Training data shape: {X_train.shape}\")\n",
        "print(f\"Testing data shape: {X_test.shape}\")\n"
      ]
    },
    {
      "cell_type": "markdown",
      "id": "0bf885b2",
      "metadata": {
        "id": "0bf885b2"
      },
      "source": [
        "Apply SMOTE for Resampling"
      ]
    },
    {
      "cell_type": "code",
      "execution_count": 10,
      "id": "0d0a0d7a",
      "metadata": {
        "colab": {
          "base_uri": "https://localhost:8080/"
        },
        "id": "0d0a0d7a",
        "outputId": "8f5ded87-d4c8-493a-930d-ad383f5e69fd"
      },
      "outputs": [
        {
          "output_type": "stream",
          "name": "stdout",
          "text": [
            "Original training set distribution: Counter({'positive': 4959, 'negative': 1935, 'neutral': 954})\n",
            "Resampled training set distribution: Counter({'negative': 4959, 'positive': 4959, 'neutral': 4959})\n"
          ]
        }
      ],
      "source": [
        "print(f\"Original training set distribution: {Counter(y_train)}\")\n",
        "\n",
        "# Initialize SMOTE\n",
        "smote = SMOTE(random_state=42)\n",
        "\n",
        "# Fit and apply SMOTE to the training data\n",
        "X_train_resampled, y_train_resampled = smote.fit_resample(X_train, y_train)\n",
        "\n",
        "print(f\"Resampled training set distribution: {Counter(y_train_resampled)}\")\n"
      ]
    },
    {
      "cell_type": "markdown",
      "id": "2025e01c",
      "metadata": {
        "id": "2025e01c"
      },
      "source": [
        "Logistic regression"
      ]
    },
    {
      "cell_type": "code",
      "execution_count": 11,
      "id": "187affcb",
      "metadata": {
        "colab": {
          "base_uri": "https://localhost:8080/"
        },
        "id": "187affcb",
        "outputId": "ba41323f-e990-49a7-c49d-c026d06e39b7"
      },
      "outputs": [
        {
          "output_type": "stream",
          "name": "stdout",
          "text": [
            "Model training complete.\n"
          ]
        }
      ],
      "source": [
        "# Initialize the Logistic Regression model\n",
        "# We increase max_iter to ensure convergence\n",
        "model = LogisticRegression(max_iter=1000, random_state=42)\n",
        "\n",
        "# Train the model on the resampled training data\n",
        "model.fit(X_train_resampled, y_train_resampled)\n",
        "\n",
        "print(\"Model training complete.\")\n"
      ]
    },
    {
      "cell_type": "markdown",
      "id": "fac932a7",
      "metadata": {
        "id": "fac932a7"
      },
      "source": [
        "Random forest"
      ]
    },
    {
      "cell_type": "code",
      "execution_count": 13,
      "id": "51f2ef41",
      "metadata": {
        "colab": {
          "base_uri": "https://localhost:8080/"
        },
        "id": "51f2ef41",
        "outputId": "57427172-4375-4475-a043-fa4d0382f96c"
      },
      "outputs": [
        {
          "output_type": "stream",
          "name": "stdout",
          "text": [
            "--- Training and Evaluating Random Forest ---\n",
            "\n",
            "--- Random Forest Evaluation ---\n",
            "              precision    recall  f1-score   support\n",
            "\n",
            "    negative       0.80      0.78      0.79       484\n",
            "     neutral       0.35      0.20      0.25       238\n",
            "    positive       0.84      0.92      0.88      1240\n",
            "\n",
            "    accuracy                           0.80      1962\n",
            "   macro avg       0.66      0.63      0.64      1962\n",
            "weighted avg       0.77      0.80      0.78      1962\n",
            "\n"
          ]
        }
      ],
      "source": [
        "print(\"--- Training and Evaluating Random Forest ---\")\n",
        "\n",
        "# Initialize LabelEncoder\n",
        "le = LabelEncoder()\n",
        "\n",
        "# Encode the target variables\n",
        "y_train_resampled_encoded = le.fit_transform(y_train_resampled)\n",
        "y_test_encoded = le.transform(y_test)\n",
        "\n",
        "# Initialize and train the model\n",
        "rf_model = RandomForestClassifier(n_estimators=200, random_state=42, class_weight='balanced', n_jobs=-1)\n",
        "rf_model.fit(X_train_resampled, y_train_resampled_encoded)\n",
        "\n",
        "# Make predictions and evaluate\n",
        "y_pred_rf = rf_model.predict(X_test)\n",
        "print(\"\\n--- Random Forest Evaluation ---\")\n",
        "print(classification_report(y_test_encoded, y_pred_rf, target_names=le.classes_))"
      ]
    },
    {
      "cell_type": "markdown",
      "id": "81e55689",
      "metadata": {
        "id": "81e55689"
      },
      "source": [
        "XG Boost"
      ]
    },
    {
      "cell_type": "code",
      "execution_count": 14,
      "id": "fd646897",
      "metadata": {
        "colab": {
          "base_uri": "https://localhost:8080/"
        },
        "id": "fd646897",
        "outputId": "0d4e950b-6f44-43b6-f485-d5fdc91eba59"
      },
      "outputs": [
        {
          "output_type": "stream",
          "name": "stdout",
          "text": [
            "--- Training and Evaluating XGBoost ---\n"
          ]
        },
        {
          "output_type": "stream",
          "name": "stderr",
          "text": [
            "/usr/local/lib/python3.12/dist-packages/xgboost/training.py:183: UserWarning: [13:05:05] WARNING: /workspace/src/learner.cc:738: \n",
            "Parameters: { \"use_label_encoder\" } are not used.\n",
            "\n",
            "  bst.update(dtrain, iteration=i, fobj=obj)\n"
          ]
        },
        {
          "output_type": "stream",
          "name": "stdout",
          "text": [
            "\n",
            "--- XGBoost Evaluation ---\n",
            "              precision    recall  f1-score   support\n",
            "\n",
            "    negative       0.76      0.83      0.79       484\n",
            "     neutral       0.42      0.32      0.36       238\n",
            "    positive       0.88      0.89      0.89      1240\n",
            "\n",
            "    accuracy                           0.81      1962\n",
            "   macro avg       0.69      0.68      0.68      1962\n",
            "weighted avg       0.80      0.81      0.80      1962\n",
            "\n"
          ]
        }
      ],
      "source": [
        "print(\"--- Training and Evaluating XGBoost ---\")\n",
        "\n",
        "# Initialize and train the model\n",
        "xgb_model = xgb.XGBClassifier(objective='multi:softmax', num_class=3, random_state=42, use_label_encoder=False, eval_metric='mlogloss')\n",
        "xgb_model.fit(X_train_resampled, y_train_resampled_encoded)\n",
        "\n",
        "# Make predictions and evaluate\n",
        "y_pred_xgb = xgb_model.predict(X_test)\n",
        "print(\"\\n--- XGBoost Evaluation ---\")\n",
        "print(classification_report(y_test_encoded, y_pred_xgb, target_names=le.classes_))\n",
        "\n"
      ]
    },
    {
      "cell_type": "markdown",
      "id": "d0f1175c",
      "metadata": {
        "id": "d0f1175c"
      },
      "source": [
        "model eval"
      ]
    },
    {
      "cell_type": "code",
      "execution_count": 17,
      "id": "8b6c3b0c",
      "metadata": {
        "colab": {
          "base_uri": "https://localhost:8080/"
        },
        "id": "8b6c3b0c",
        "outputId": "da3589d7-2c87-4d03-eac6-f61bddca755b"
      },
      "outputs": [
        {
          "output_type": "stream",
          "name": "stdout",
          "text": [
            "Logistic Regression Neutral F1-Score: 0.4014\n",
            "Random Forest Neutral F1-Score: 0.2546\n",
            "XGBoost Neutral F1-Score: 0.3649\n",
            "\n",
            "--- Analyzing Misclassified Neutral Reviews (from XGBoost model) ---\n",
            "\n",
            "Number of misclassified neutral reviews: 161\n",
            "Displaying 10 examples:\n",
            "     True_Sentiment Predicted_Sentiment  \\\n",
            "4470        neutral            positive   \n",
            "3885        neutral            negative   \n",
            "333         neutral            positive   \n",
            "3191        neutral            positive   \n",
            "7881        neutral            positive   \n",
            "4534        neutral            negative   \n",
            "5937        neutral            negative   \n",
            "4417        neutral            negative   \n",
            "8218        neutral            positive   \n",
            "8918        neutral            negative   \n",
            "\n",
            "                                                                                                                                                                                                                                                                                                                                                                                                                                                                                                                                                                              Review  \n",
            "4470  La La land...... A place with great ambience.......\\r\\n\\r\\nAmbience: 🌟🌟🌟🌟\\r\\nOne of the best places with great ambience in the city. The place is dim lighted but not too dark. It's the perfect place to hang out in the evening for a drink.\\r\\n\\r\\nFood: 🌟🌟🌟\\r\\nThe place will serve you with a good buffet. A series of starters and main courses and desserts are just awesome here. Just make sure you are not late as the buffet strictly closes at 3:00 pm.\\r\\n\\r\\nHospitality: 🌟🌟🌟🌟\\r\\n\\r\\nThe staff is well trained to manage the crowd and at making you feel good.  \n",
            "3885                                                                                          We went there to celebrate my husband's birthday given the ratings we saw. However the restaurant did not live up to the high expectations, considering the average food and slow service. The staff was courteous though as we did not like our tomato soup, and they were prompt enough to take it back. Honestly, the replaced one wasn't much of a relief either. Would recommend there to go for the evening view with friends for few drinks, but don't expect mu h beyond that!  \n",
            "333                                                                                                                                                                                                                                                                                                                                                                                                                                  Ordered special chicken biryani. Biryani was great in taste but ambience was not good. Also this restaurant is too unhygienic and over crowded.  \n",
            "3191                                                                                                                                                                                                                                                                                                                                                                                              Had their Reshmi kebab served with omlette on the top it was good\\r\\nginger prawns were oky but their serving quantity was good.\\r\\nChicken biryani and haleem was good as usual .  \n",
            "7881                                                           Dishes Tried: Lal Mirch Tikka, Tundey Kebab, Rajwada Ghost\\r\\n\\r\\nThe food is okay not great, doesn't really live up to the hype. Tundey kebab was good but a little bit on spicy side. Rajwada Ghost was awesome.\\r\\n\\r\\ngoodespecially the Kabsa Laham. Its a must have for everyone. Grilled chicken was a let down though\\r\\n\\r\\nThe staff wasn't very welcoming when we mentioned we will using DineOut for payments and you could sense their attitude change. The ambience is pretty standard and looks empty.  \n",
            "4534                                                                                                                                                                                                                                                                                                                                                                                                                                                          I ordered paneer Kulcha but it's not according to my expectations...their was only the name of paneer but no paneer...  \n",
            "5937                                                                                                                                                                                                                                                                                                                                                                                                                              Had their chicken tikka hotdog, pineapple cake , egg paneer and chicken patties , pineapple cake , Choco chip cake and bournvita cake was so tasty  \n",
            "4417                                                                                                                                                                                                                                                                                                                                                   Environment was kinda boxed in ,which was not so appealing  to feeling of being relax ,but food was great ,beer was cold.Cocktails were not so great but then there was a AC in smoking room so yes it can be rated as 3 star  \n",
            "8218                                                                                                                They have really good bryani and starters. Overall food quality is good. We did not find the Whole wheat roties they are of mostly maida. Staff is good, they will help you in choosing the menus recomendations etc. We always feel comfortable to seat in AC room rather outside. Parking available. Location is easily reachable. Many times they do not accept the card payment so make sure you carry cash or they have ICICI ATM in front of cash counter.  \n",
            "8918                                                                                                                                                                                                                                                                                                                                                                                                                                                                                                                                                                       bad taste  \n"
          ]
        }
      ],
      "source": [
        "# Make predictions for Logistic Regression\n",
        "y_pred_log_reg = model.predict(X_test)\n",
        "y_pred_log_reg_encoded = le.transform(y_pred_log_reg)\n",
        "\n",
        "# Calculate F1 scores for the neutral class for each model\n",
        "f1_neutral_log_reg = f1_score(y_test_encoded, y_pred_log_reg_encoded, labels=[le.transform(['neutral'])[0]], average='macro')\n",
        "f1_neutral_rf = f1_score(y_test_encoded, y_pred_rf, labels=[le.transform(['neutral'])[0]], average='macro')\n",
        "f1_neutral_xgb = f1_score(y_test_encoded, y_pred_xgb, labels=[le.transform(['neutral'])[0]], average='macro')\n",
        "\n",
        "print(f\"Logistic Regression Neutral F1-Score: {f1_neutral_log_reg:.4f}\")\n",
        "print(f\"Random Forest Neutral F1-Score: {f1_neutral_rf:.4f}\")\n",
        "print(f\"XGBoost Neutral F1-Score: {f1_neutral_xgb:.4f}\")\n",
        "\n",
        "# For this example, let's assume XGBoost performed best and analyze its errors\n",
        "print(\"\\n--- Analyzing Misclassified Neutral Reviews (from XGBoost model) ---\")\n",
        "\n",
        "# Decode predictions back to string labels for analysis\n",
        "y_pred_xgb_labels = le.inverse_transform(y_pred_xgb)\n",
        "\n",
        "# Create a results DataFrame\n",
        "results_df = pd.DataFrame({'True_Sentiment': y_test, 'Predicted_Sentiment': y_pred_xgb_labels})\n",
        "results_df['Review'] = df.loc[y_test.index, 'Review']\n",
        "\n",
        "# Filter for misclassified neutral reviews\n",
        "misclassified_neutral = results_df[\n",
        "    (results_df['True_Sentiment'] == 'neutral') &\n",
        "    (results_df['Predicted_Sentiment'] != 'neutral')\n",
        "]\n",
        "\n",
        "print(f\"\\nNumber of misclassified neutral reviews: {len(misclassified_neutral)}\")\n",
        "print(\"Displaying 10 examples:\")\n",
        "print(misclassified_neutral.head(10))"
      ]
    }
  ],
  "metadata": {
    "kernelspec": {
      "display_name": "ml_env",
      "language": "python",
      "name": "python3"
    },
    "language_info": {
      "codemirror_mode": {
        "name": "ipython",
        "version": 3
      },
      "file_extension": ".py",
      "mimetype": "text/x-python",
      "name": "python",
      "nbconvert_exporter": "python",
      "pygments_lexer": "ipython3",
      "version": "3.12.6"
    },
    "colab": {
      "provenance": []
    }
  },
  "nbformat": 4,
  "nbformat_minor": 5
}