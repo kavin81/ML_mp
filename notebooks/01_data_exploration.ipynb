{
 "cells": [
  {
   "cell_type": "markdown",
   "id": "58c370d9",
   "metadata": {},
   "source": [
    "importing libraries"
   ]
  },
  {
   "cell_type": "code",
   "execution_count": 11,
   "id": "db04243c",
   "metadata": {},
   "outputs": [],
   "source": [
    "import pandas as pd\n",
    "import numpy as np\n",
    "import seaborn as sns\n",
    "import matplotlib.pyplot as plt\n",
    "import re\n",
    "import nltk\n",
    "from nltk.corpus import stopwords\n",
    "from nltk.stem import WordNetLemmatizer\n",
    "\n",
    "from sklearn.feature_extraction.text import TfidfVectorizer\n",
    "from sklearn.model_selection import train_test_split\n",
    "from sklearn.linear_model import LogisticRegression\n",
    "from sklearn.metrics import classification_report, confusion_matrix, accuracy_score\n",
    "from imblearn.over_sampling import SMOTE\n",
    "from collections import Counter\n",
    "\n",
    "# Set plotting style\n",
    "sns.set_style('whitegrid')\n"
   ]
  },
  {
   "cell_type": "markdown",
   "id": "fc1df660",
   "metadata": {},
   "source": [
    "## data loading and cleaning"
   ]
  },
  {
   "cell_type": "code",
   "execution_count": 12,
   "id": "533335e9",
   "metadata": {},
   "outputs": [
    {
     "name": "stdout",
     "output_type": "stream",
     "text": [
      "Data loaded and cleaned successfully.\n",
      "Shape of the dataframe: (9810, 2)\n"
     ]
    },
    {
     "data": {
      "text/html": [
       "<div>\n",
       "<style scoped>\n",
       "    .dataframe tbody tr th:only-of-type {\n",
       "        vertical-align: middle;\n",
       "    }\n",
       "\n",
       "    .dataframe tbody tr th {\n",
       "        vertical-align: top;\n",
       "    }\n",
       "\n",
       "    .dataframe thead th {\n",
       "        text-align: right;\n",
       "    }\n",
       "</style>\n",
       "<table border=\"1\" class=\"dataframe\">\n",
       "  <thead>\n",
       "    <tr style=\"text-align: right;\">\n",
       "      <th></th>\n",
       "      <th>Review</th>\n",
       "      <th>Rating</th>\n",
       "    </tr>\n",
       "  </thead>\n",
       "  <tbody>\n",
       "    <tr>\n",
       "      <th>0</th>\n",
       "      <td>The ambience was good, food was quite good . h...</td>\n",
       "      <td>5</td>\n",
       "    </tr>\n",
       "    <tr>\n",
       "      <th>1</th>\n",
       "      <td>Ambience is too good for a pleasant evening. S...</td>\n",
       "      <td>5</td>\n",
       "    </tr>\n",
       "    <tr>\n",
       "      <th>2</th>\n",
       "      <td>A must try.. great food great ambience. Thnx f...</td>\n",
       "      <td>5</td>\n",
       "    </tr>\n",
       "    <tr>\n",
       "      <th>3</th>\n",
       "      <td>Soumen das and Arun was a great guy. Only beca...</td>\n",
       "      <td>5</td>\n",
       "    </tr>\n",
       "    <tr>\n",
       "      <th>4</th>\n",
       "      <td>Food is good.we ordered Kodi drumsticks and ba...</td>\n",
       "      <td>5</td>\n",
       "    </tr>\n",
       "  </tbody>\n",
       "</table>\n",
       "</div>"
      ],
      "text/plain": [
       "                                              Review  Rating\n",
       "0  The ambience was good, food was quite good . h...       5\n",
       "1  Ambience is too good for a pleasant evening. S...       5\n",
       "2  A must try.. great food great ambience. Thnx f...       5\n",
       "3  Soumen das and Arun was a great guy. Only beca...       5\n",
       "4  Food is good.we ordered Kodi drumsticks and ba...       5"
      ]
     },
     "execution_count": 12,
     "metadata": {},
     "output_type": "execute_result"
    }
   ],
   "source": [
    "import pandas as pd\n",
    "\n",
    "# Load the dataset using the correct relative path\n",
    "df = pd.read_csv('../data/raw/restaurant_reviews.csv')\n",
    "\n",
    "# Select the necessary columns and drop rows with missing ratings\n",
    "df = df[['Review','Rating']]\n",
    "df = df.dropna(subset=[\"Rating\", \"Review\"])\n",
    "\n",
    "# Ensure ratings are digits and convert the column to integer type\n",
    "df = df[df[\"Rating\"].apply(lambda x: str(x).isdigit())]\n",
    "df[\"Rating\"] = df[\"Rating\"].astype(int)\n",
    "\n",
    "# Ensure the 'Review' column is always a string\n",
    "df['Review'] = df['Review'].astype(str)\n",
    "\n",
    "print(\"Data loaded and cleaned successfully.\")\n",
    "print(f\"Shape of the dataframe: {df.shape}\")\n",
    "df.head()\n",
    "\n"
   ]
  },
  {
   "cell_type": "markdown",
   "id": "03983084",
   "metadata": {},
   "source": [
    "MAP rating and setiment"
   ]
  },
  {
   "cell_type": "code",
   "execution_count": 13,
   "id": "cb6994bf",
   "metadata": {},
   "outputs": [
    {
     "name": "stdout",
     "output_type": "stream",
     "text": [
      "Sentiment column created.\n"
     ]
    },
    {
     "data": {
      "text/html": [
       "<div>\n",
       "<style scoped>\n",
       "    .dataframe tbody tr th:only-of-type {\n",
       "        vertical-align: middle;\n",
       "    }\n",
       "\n",
       "    .dataframe tbody tr th {\n",
       "        vertical-align: top;\n",
       "    }\n",
       "\n",
       "    .dataframe thead th {\n",
       "        text-align: right;\n",
       "    }\n",
       "</style>\n",
       "<table border=\"1\" class=\"dataframe\">\n",
       "  <thead>\n",
       "    <tr style=\"text-align: right;\">\n",
       "      <th></th>\n",
       "      <th>Review</th>\n",
       "      <th>Rating</th>\n",
       "      <th>Sentiment</th>\n",
       "    </tr>\n",
       "  </thead>\n",
       "  <tbody>\n",
       "    <tr>\n",
       "      <th>0</th>\n",
       "      <td>The ambience was good, food was quite good . h...</td>\n",
       "      <td>5</td>\n",
       "      <td>positive</td>\n",
       "    </tr>\n",
       "    <tr>\n",
       "      <th>1</th>\n",
       "      <td>Ambience is too good for a pleasant evening. S...</td>\n",
       "      <td>5</td>\n",
       "      <td>positive</td>\n",
       "    </tr>\n",
       "    <tr>\n",
       "      <th>2</th>\n",
       "      <td>A must try.. great food great ambience. Thnx f...</td>\n",
       "      <td>5</td>\n",
       "      <td>positive</td>\n",
       "    </tr>\n",
       "    <tr>\n",
       "      <th>3</th>\n",
       "      <td>Soumen das and Arun was a great guy. Only beca...</td>\n",
       "      <td>5</td>\n",
       "      <td>positive</td>\n",
       "    </tr>\n",
       "    <tr>\n",
       "      <th>4</th>\n",
       "      <td>Food is good.we ordered Kodi drumsticks and ba...</td>\n",
       "      <td>5</td>\n",
       "      <td>positive</td>\n",
       "    </tr>\n",
       "  </tbody>\n",
       "</table>\n",
       "</div>"
      ],
      "text/plain": [
       "                                              Review  Rating Sentiment\n",
       "0  The ambience was good, food was quite good . h...       5  positive\n",
       "1  Ambience is too good for a pleasant evening. S...       5  positive\n",
       "2  A must try.. great food great ambience. Thnx f...       5  positive\n",
       "3  Soumen das and Arun was a great guy. Only beca...       5  positive\n",
       "4  Food is good.we ordered Kodi drumsticks and ba...       5  positive"
      ]
     },
     "execution_count": 13,
     "metadata": {},
     "output_type": "execute_result"
    }
   ],
   "source": [
    "def map_sentiment(rating):\n",
    "    if rating > 3:\n",
    "        return \"positive\"\n",
    "    elif rating < 3:\n",
    "        return \"negative\"\n",
    "    else:\n",
    "        return \"neutral\"\n",
    "\n",
    "df[\"Sentiment\"] = df[\"Rating\"].apply(map_sentiment)\n",
    "\n",
    "print(\"Sentiment column created.\")\n",
    "df.head()\n"
   ]
  },
  {
   "cell_type": "markdown",
   "id": "7a5796b6",
   "metadata": {},
   "source": [
    "check class balances\n"
   ]
  },
  {
   "cell_type": "code",
   "execution_count": 14,
   "id": "113cf0ce",
   "metadata": {},
   "outputs": [
    {
     "name": "stderr",
     "output_type": "stream",
     "text": [
      "C:\\Users\\krish\\AppData\\Local\\Temp\\ipykernel_17992\\4068568349.py:3: FutureWarning: \n",
      "\n",
      "Passing `palette` without assigning `hue` is deprecated and will be removed in v0.14.0. Assign the `x` variable to `hue` and set `legend=False` for the same effect.\n",
      "\n",
      "  sns.countplot(x=\"Sentiment\", data=df, palette=\"coolwarm\", order=['positive', 'negative', 'neutral'])\n"
     ]
    },
    {
     "data": {
      "image/png": "[encoded data removed]",
      "text/plain": [
       "<Figure size 800x500 with 1 Axes>"
      ]
     },
     "metadata": {},
     "output_type": "display_data"
    },
    {
     "name": "stdout",
     "output_type": "stream",
     "text": [
      "Sentiment Value Counts (Normalized):\n",
      "Sentiment\n",
      "positive    0.631906\n",
      "negative    0.246585\n",
      "neutral     0.121509\n",
      "Name: proportion, dtype: float64\n"
     ]
    }
   ],
   "source": [
    "# Plot the sentiment distribution\n",
    "plt.figure(figsize=(8, 5))\n",
    "sns.countplot(x=\"Sentiment\", data=df, palette=\"coolwarm\", order=['positive', 'negative', 'neutral'])\n",
    "plt.title(\"Sentiment Distribution\", fontsize=16)\n",
    "plt.xlabel(\"Sentiment\", fontsize=12)\n",
    "plt.ylabel(\"Count\", fontsize=12)\n",
    "plt.show()\n",
    "\n",
    "# Display the exact value counts\n",
    "print(\"Sentiment Value Counts (Normalized):\")\n",
    "print(df[\"Sentiment\"].value_counts(normalize=True))\n"
   ]
  },
  {
   "cell_type": "markdown",
   "id": "c3bdedd7",
   "metadata": {},
   "source": [
    "text cleaning function"
   ]
  },
  {
   "cell_type": "code",
   "execution_count": 15,
   "id": "b7da0ba9",
   "metadata": {},
   "outputs": [
    {
     "name": "stdout",
     "output_type": "stream",
     "text": [
      "Preprocessing function is ready.\n"
     ]
    },
    {
     "name": "stderr",
     "output_type": "stream",
     "text": [
      "[nltk_data] Downloading package stopwords to\n",
      "[nltk_data]     C:\\Users\\krish\\AppData\\Roaming\\nltk_data...\n",
      "[nltk_data]   Package stopwords is already up-to-date!\n",
      "[nltk_data] Downloading package wordnet to\n",
      "[nltk_data]     C:\\Users\\krish\\AppData\\Roaming\\nltk_data...\n",
      "[nltk_data]   Package wordnet is already up-to-date!\n"
     ]
    }
   ],
   "source": [
    "# Download necessary NLTK data (only needs to be done once)\n",
    "nltk.download('stopwords')\n",
    "nltk.download('wordnet')\n",
    "\n",
    "# Initialize the lemmatizer and stopwords\n",
    "lemmatizer = WordNetLemmatizer()\n",
    "stop_words = set(stopwords.words('english'))\n",
    "\n",
    "def preprocess_text(text):\n",
    "    # Remove non-alphabetic characters and convert to lowercase\n",
    "    text = re.sub('[^a-zA-Z]', ' ', text).lower()\n",
    "    \n",
    "    # Tokenize the text\n",
    "    words = text.split()\n",
    "    \n",
    "    # Remove stopwords and lemmatize\n",
    "    lemmatized_words = [lemmatizer.lemmatize(word) for word in words if word not in stop_words]\n",
    "    \n",
    "    return \" \".join(lemmatized_words)\n",
    "\n",
    "print(\"Preprocessing function is ready.\")\n"
   ]
  },
  {
   "cell_type": "markdown",
   "id": "130afaa5",
   "metadata": {},
   "source": [
    "preprocessing"
   ]
  },
  {
   "cell_type": "code",
   "execution_count": 16,
   "id": "ae613ed2",
   "metadata": {},
   "outputs": [
    {
     "name": "stdout",
     "output_type": "stream",
     "text": [
      "Text preprocessing complete. Here's a before-and-after example:\n",
      "\n",
      "--- ORIGINAL REVIEW ---\n",
      "The ambience was good, food was quite good . had Saturday lunch , which was cost effective .\n",
      "Good place for a sate brunch. One can also chill with friends and or parents.\n",
      "Waiter Soumen Das was really courteous and helpful.\n",
      "\n",
      "--- PROCESSED REVIEW ---\n",
      "ambience good food quite good saturday lunch cost effective good place sate brunch one also chill friend parent waiter soumen da really courteous helpful\n"
     ]
    }
   ],
   "source": [
    "# Apply the preprocessing function to the Review column\n",
    "# This may take a moment to run\n",
    "df['Processed_Review'] = df['Review'].apply(preprocess_text)\n",
    "\n",
    "print(\"Text preprocessing complete. Here's a before-and-after example:\")\n",
    "print(\"\\n--- ORIGINAL REVIEW ---\")\n",
    "print(df['Review'].iloc[0])\n",
    "print(\"\\n--- PROCESSED REVIEW ---\")\n",
    "print(df['Processed_Review'].iloc[0])\n"
   ]
  },
  {
   "cell_type": "markdown",
   "id": "3db5d4c3",
   "metadata": {},
   "source": [
    "TDF-IDF vectorization"
   ]
  },
  {
   "cell_type": "code",
   "execution_count": 17,
   "id": "f20d01c7",
   "metadata": {},
   "outputs": [
    {
     "name": "stdout",
     "output_type": "stream",
     "text": [
      "TF-IDF vectorization complete.\n",
      "Shape of the feature matrix (X): (9810, 5000)\n"
     ]
    }
   ],
   "source": [
    "# Initialize the TF-IDF Vectorizer\n",
    "# max_features limits the vocabulary size to the top 5000 words\n",
    "# ngram_range=(1,2) considers both single words and pairs of words (bigrams)\n",
    "tfidf = TfidfVectorizer(max_features=5000, ngram_range=(1,2))\n",
    "\n",
    "# Create the feature matrix (X) and target vector (y)\n",
    "X = tfidf.fit_transform(df['Processed_Review'])\n",
    "y = df['Sentiment']\n",
    "\n",
    "print(\"TF-IDF vectorization complete.\")\n",
    "print(f\"Shape of the feature matrix (X): {X.shape}\")\n"
   ]
  },
  {
   "cell_type": "markdown",
   "id": "73324376",
   "metadata": {},
   "source": [
    "split data "
   ]
  },
  {
   "cell_type": "code",
   "execution_count": 18,
   "id": "9c241bd9",
   "metadata": {},
   "outputs": [
    {
     "name": "stdout",
     "output_type": "stream",
     "text": [
      "Data splitting complete.\n",
      "Training data shape: (7848, 5000)\n",
      "Testing data shape: (1962, 5000)\n"
     ]
    }
   ],
   "source": [
    "# Split the data into training (80%) and testing (20%) sets\n",
    "X_train, X_test, y_train, y_test = train_test_split(\n",
    "    X, y, \n",
    "    test_size=0.2, \n",
    "    random_state=42, # for reproducibility\n",
    "    stratify=y       # IMPORTANT for imbalanced data\n",
    ")\n",
    "\n",
    "print(\"Data splitting complete.\")\n",
    "print(f\"Training data shape: {X_train.shape}\")\n",
    "print(f\"Testing data shape: {X_test.shape}\")\n"
   ]
  },
  {
   "cell_type": "markdown",
   "id": "0bf885b2",
   "metadata": {},
   "source": [
    "Apply SMOTE for Resampling"
   ]
  },
  {
   "cell_type": "code",
   "execution_count": 19,
   "id": "0d0a0d7a",
   "metadata": {},
   "outputs": [
    {
     "name": "stdout",
     "output_type": "stream",
     "text": [
      "Original training set distribution: Counter({'positive': 4959, 'negative': 1935, 'neutral': 954})\n",
      "Resampled training set distribution: Counter({'negative': 4959, 'positive': 4959, 'neutral': 4959})\n"
     ]
    }
   ],
   "source": [
    "print(f\"Original training set distribution: {Counter(y_train)}\")\n",
    "\n",
    "# Initialize SMOTE\n",
    "smote = SMOTE(random_state=42)\n",
    "\n",
    "# Fit and apply SMOTE to the training data\n",
    "X_train_resampled, y_train_resampled = smote.fit_resample(X_train, y_train)\n",
    "\n",
    "print(f\"Resampled training set distribution: {Counter(y_train_resampled)}\")\n"
   ]
  },
  {
   "cell_type": "markdown",
   "id": "2025e01c",
   "metadata": {},
   "source": [
    "Train the Model"
   ]
  },
  {
   "cell_type": "code",
   "execution_count": 20,
   "id": "187affcb",
   "metadata": {},
   "outputs": [
    {
     "name": "stdout",
     "output_type": "stream",
     "text": [
      "Model training complete.\n"
     ]
    }
   ],
   "source": [
    "# Initialize the Logistic Regression model\n",
    "# We increase max_iter to ensure convergence\n",
    "model = LogisticRegression(max_iter=1000, random_state=42)\n",
    "\n",
    "# Train the model on the resampled training data\n",
    "model.fit(X_train_resampled, y_train_resampled)\n",
    "\n",
    "print(\"Model training complete.\")\n"
   ]
  },
  {
   "cell_type": "markdown",
   "id": "d0f1175c",
   "metadata": {},
   "source": [
    "model eval "
   ]
  },
  {
   "cell_type": "code",
   "execution_count": 21,
   "id": "8b6c3b0c",
   "metadata": {},
   "outputs": [
    {
     "name": "stdout",
     "output_type": "stream",
     "text": [
      "Model Accuracy: 0.7880\n",
      "\n",
      "Classification Report:\n",
      "\n",
      "              precision    recall  f1-score   support\n",
      "\n",
      "    negative       0.79      0.79      0.79       484\n",
      "     neutral       0.35      0.47      0.40       238\n",
      "    positive       0.91      0.85      0.88      1240\n",
      "\n",
      "    accuracy                           0.79      1962\n",
      "   macro avg       0.68      0.70      0.69      1962\n",
      "weighted avg       0.81      0.79      0.80      1962\n",
      "\n",
      "\n",
      "Confusion Matrix:\n",
      "\n"
     ]
    },
    {
     "data": {
      "image/png": "[encoded data removed]",
      "text/plain": [
       "<Figure size 800x600 with 2 Axes>"
      ]
     },
     "metadata": {},
     "output_type": "display_data"
    }
   ],
   "source": [
    "# Make predictions on the original test set\n",
    "y_pred = model.predict(X_test)\n",
    "\n",
    "# Print the accuracy\n",
    "print(f\"Model Accuracy: {accuracy_score(y_test, y_pred):.4f}\\n\")\n",
    "\n",
    "# Print the detailed classification report\n",
    "print(\"Classification Report:\\n\")\n",
    "print(classification_report(y_test, y_pred))\n",
    "\n",
    "# Visualize the confusion matrix\n",
    "print(\"\\nConfusion Matrix:\\n\")\n",
    "cm = confusion_matrix(y_test, y_pred)\n",
    "plt.figure(figsize=(8, 6))\n",
    "sns.heatmap(cm, annot=True, fmt='d', cmap='Blues', \n",
    "            xticklabels=model.classes_, yticklabels=model.classes_)\n",
    "plt.title('Confusion Matrix', fontsize=16)\n",
    "plt.xlabel('Predicted Label', fontsize=12)\n",
    "plt.ylabel('True Label', fontsize=12)\n",
    "plt.show()\n"
   ]
  }
 ],
 "metadata": {
  "kernelspec": {
   "display_name": "Restaurant Sentiment Venv",
   "language": "python",
   "name": "restraunt_sentiment"
  },
  "language_info": {
   "codemirror_mode": {
    "name": "ipython",
    "version": 3
   },
   "file_extension": ".py",
   "mimetype": "text/x-python",
   "name": "python",
   "nbconvert_exporter": "python",
   "pygments_lexer": "ipython3",
   "version": "3.12.6"
  }
 },
 "nbformat": 4,
 "nbformat_minor": 5
}
